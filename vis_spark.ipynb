{
 "cells": [
  {
   "cell_type": "code",
   "execution_count": 1,
   "metadata": {},
   "outputs": [],
   "source": [
    "import findspark\n",
    "findspark.init()"
   ]
  },
  {
   "cell_type": "code",
   "execution_count": 2,
   "metadata": {},
   "outputs": [],
   "source": [
    "from pyspark import SparkContext, SparkConf"
   ]
  },
  {
   "cell_type": "code",
   "execution_count": 3,
   "metadata": {},
   "outputs": [],
   "source": [
    "sc = SparkContext().getOrCreate();"
   ]
  },
  {
   "cell_type": "code",
   "execution_count": 4,
   "metadata": {},
   "outputs": [],
   "source": [
    "from pyspark.sql import SQLContext, Row\n",
    "sqlContext = SQLContext(sc)"
   ]
  },
  {
   "cell_type": "code",
   "execution_count": 5,
   "metadata": {},
   "outputs": [],
   "source": [
    "rdd = sc.textFile(\"well-data.csv\")"
   ]
  },
  {
   "cell_type": "code",
   "execution_count": 6,
   "metadata": {},
   "outputs": [],
   "source": [
    "def process(line):\n",
    "    l=line.split(\",\")\n",
    "    return l"
   ]
  },
  {
   "cell_type": "code",
   "execution_count": 7,
   "metadata": {},
   "outputs": [
    {
     "data": {
      "text/plain": [
       "[['Ideal_PH', 'Well_deep', 'Water_temp', 'jet_pump', 'rainy_area', 'validity'],\n",
       " ['7', '33', '2', '1', '0', '0']]"
      ]
     },
     "execution_count": 7,
     "metadata": {},
     "output_type": "execute_result"
    }
   ],
   "source": [
    "new_rdd=rdd.map(process)\n",
    "new_rdd.take(2)"
   ]
  },
  {
   "cell_type": "code",
   "execution_count": 8,
   "metadata": {},
   "outputs": [
    {
     "name": "stdout",
     "output_type": "stream",
     "text": [
      "['Ideal_PH', 'Well_deep', 'Water_temp', 'jet_pump', 'rainy_area', 'validity']\n"
     ]
    },
    {
     "data": {
      "text/plain": [
       "[['7', '33', '2', '1', '0', '0'], ['7', '55', '3', '0', '0', '1']]"
      ]
     },
     "execution_count": 8,
     "metadata": {},
     "output_type": "execute_result"
    }
   ],
   "source": [
    "header = new_rdd.first()\n",
    "print(header)\n",
    "dataLines= new_rdd.filter(lambda ln: ln != header)\n",
    "dataLines.take(2)"
   ]
  },
  {
   "cell_type": "code",
   "execution_count": 9,
   "metadata": {},
   "outputs": [
    {
     "data": {
      "text/plain": [
       "[Row(Ideal_PH=7.0, Water_temp=2, Well_deep=33, jet_pump=1, rainy_area=0, validity=0),\n",
       " Row(Ideal_PH=7.0, Water_temp=3, Well_deep=55, jet_pump=0, rainy_area=0, validity=1)]"
      ]
     },
     "execution_count": 9,
     "metadata": {},
     "output_type": "execute_result"
    }
   ],
   "source": [
    "def convert_toRows(line):\n",
    "    r=Row(Ideal_PH=float(line[0]),Well_deep=int(line[1]),Water_temp=int(line[2]),jet_pump=int(line[3]),\n",
    "          rainy_area=int(line[4]),validity=int(line[5]))\n",
    "    return r\n",
    "\n",
    "rows=dataLines.map(convert_toRows)\n",
    "rows.take(2)\n"
   ]
  },
  {
   "cell_type": "code",
   "execution_count": 10,
   "metadata": {},
   "outputs": [
    {
     "name": "stdout",
     "output_type": "stream",
     "text": [
      "+--------+----------+---------+--------+----------+--------+\n",
      "|Ideal_PH|Water_temp|Well_deep|jet_pump|rainy_area|validity|\n",
      "+--------+----------+---------+--------+----------+--------+\n",
      "|     7.0|         2|       33|       1|         0|       0|\n",
      "|     7.0|         3|       55|       0|         0|       1|\n",
      "|     6.0|         3|       58|       1|         0|       0|\n",
      "|     6.0|         3|       42|       0|         0|       1|\n",
      "|     6.0|         2|       43|       0|         1|       0|\n",
      "|     6.0|         2|       36|       0|         1|       1|\n",
      "|     7.0|         2|       35|       0|         0|       1|\n",
      "|     8.0|         2|       30|       0|         1|       0|\n",
      "|     6.0|         3|       36|       0|         1|       1|\n",
      "|     8.0|         3|       56|       0|         0|       0|\n",
      "|     8.0|         2|       52|       1|         1|       0|\n",
      "|     8.0|         2|       57|       0|         1|       1|\n",
      "|     6.0|         3|       56|       1|         0|       0|\n",
      "|     7.0|         2|       54|       1|         0|       0|\n",
      "|     6.0|         3|       35|       0|         1|       1|\n",
      "|     7.0|         2|       60|       1|         0|       0|\n",
      "|     6.0|         3|       48|       0|         0|       1|\n",
      "|     7.0|         3|       33|       0|         0|       1|\n",
      "|     8.0|         3|       48|       0|         0|       0|\n",
      "|     6.0|         3|       33|       0|         0|       1|\n",
      "+--------+----------+---------+--------+----------+--------+\n",
      "only showing top 20 rows\n",
      "\n"
     ]
    }
   ],
   "source": [
    "#tmp_rows=rows.take(20)\n",
    "#tmp_df=sqlContext.createDataFrame(tmp_rows)\n",
    "#tmp_df.show()\n",
    "#print(type(tmp_df))\n",
    "\n",
    "df = sqlContext.createDataFrame(rows)\n",
    "df.show()"
   ]
  },
  {
   "cell_type": "code",
   "execution_count": 11,
   "metadata": {},
   "outputs": [],
   "source": [
    "#a_list = df.select('age').collect()\n",
    "#age_arr = [int(row.age) for row in a_list]\n",
    "#age_arr"
   ]
  },
  {
   "cell_type": "code",
   "execution_count": 12,
   "metadata": {},
   "outputs": [],
   "source": [
    "#temporary table that registerated to run sql statements\n",
    "df.registerTempTable(\"myTab\") "
   ]
  },
  {
   "cell_type": "code",
   "execution_count": 34,
   "metadata": {},
   "outputs": [],
   "source": [
    "#res = sqlContext.sql(\"SELECT * FROM myTab WHERE age > 20\")\n",
    "#res.show()\n",
    "\n",
    "ph_list=sqlContext.sql(\"SELECT Ideal_PH FROM myTab\").collect()\n",
    "ph_arr=[int(row.Ideal_PH) for row in ph_list]\n",
    "\n",
    "temp_list=sqlContext.sql(\"SELECT Water_temp FROM myTab\").collect()\n",
    "temp_arr=[int(row.Water_temp) for row in temp_list]\n",
    "\n",
    "deep_list=sqlContext.sql(\"SELECT Well_deep FROM myTab\").collect()\n",
    "deep_arr=[int(row.Well_deep) for row in deep_list]\n",
    "\n",
    "pump_list=sqlContext.sql(\"SELECT jet_pump FROM myTab\").collect()\n",
    "pump_arr=[int(row.jet_pump) for row in pump_list]\n",
    "\n",
    "rainy_list=sqlContext.sql(\"SELECT rainy_area FROM myTab\").collect()\n",
    "rainy_arr=[int(row.rainy_area) for row in rainy_list]\n",
    "\n",
    "valid_list=sqlContext.sql(\"SELECT validity FROM myTab\").collect()\n",
    "valid_arr=[int(row.validity) for row in valid_list]"
   ]
  },
  {
   "cell_type": "code",
   "execution_count": 30,
   "metadata": {},
   "outputs": [
    {
     "data": {
      "image/png": "[encoded data removed]",
      "text/plain": [
       "<Figure size 432x288 with 1 Axes>"
      ]
     },
     "metadata": {
      "needs_background": "light"
     },
     "output_type": "display_data"
    },
    {
     "data": {
      "image/png": "[encoded data removed]",
      "text/plain": [
       "<Figure size 432x288 with 1 Axes>"
      ]
     },
     "metadata": {
      "needs_background": "light"
     },
     "output_type": "display_data"
    },
    {
     "data": {
      "image/png": "[encoded data removed]",
      "text/plain": [
       "<Figure size 432x288 with 1 Axes>"
      ]
     },
     "metadata": {
      "needs_background": "light"
     },
     "output_type": "display_data"
    },
    {
     "data": {
      "image/png": "[encoded data removed]",
      "text/plain": [
       "<Figure size 432x288 with 1 Axes>"
      ]
     },
     "metadata": {
      "needs_background": "light"
     },
     "output_type": "display_data"
    },
    {
     "data": {
      "image/png": "[encoded data removed]",
      "text/plain": [
       "<Figure size 432x288 with 1 Axes>"
      ]
     },
     "metadata": {
      "needs_background": "light"
     },
     "output_type": "display_data"
    }
   ],
   "source": [
    "import matplotlib.pyplot as plt\n",
    "\n",
    "plt.scatter(ph_arr,valid_arr)\n",
    "plt.xlabel(\"Ideal_PH\")\n",
    "plt.ylabel(\"validity\")\n",
    "plt.show()\n",
    "\n",
    "plt.scatter(temp_arr,valid_arr)\n",
    "plt.xlabel(\"Water_temp\")\n",
    "plt.ylabel(\"validity\")\n",
    "plt.show()\n",
    "\n",
    "plt.scatter(deep_arr,valid_arr)\n",
    "plt.xlabel(\"Well_deep\")\n",
    "plt.ylabel(\"validity\")\n",
    "plt.show()\n",
    "\n",
    "plt.scatter(pump_arr,valid_arr)\n",
    "plt.xlabel(\"jet_pump\")\n",
    "plt.ylabel(\"validity\")\n",
    "plt.show()\n",
    "\n",
    "plt.scatter(rainy_arr,valid_arr)\n",
    "plt.xlabel(\"rainy_area\")\n",
    "plt.ylabel(\"validity\")\n",
    "plt.show()"
   ]
  },
  {
   "cell_type": "code",
   "execution_count": 44,
   "metadata": {},
   "outputs": [
    {
     "data": {
      "image/png": "[encoded data removed]",
      "text/plain": [
       "<Figure size 432x288 with 1 Axes>"
      ]
     },
     "metadata": {
      "needs_background": "light"
     },
     "output_type": "display_data"
    },
    {
     "data": {
      "image/png": "[encoded data removed]",
      "text/plain": [
       "<Figure size 432x288 with 1 Axes>"
      ]
     },
     "metadata": {
      "needs_background": "light"
     },
     "output_type": "display_data"
    },
    {
     "data": {
      "image/png": "[encoded data removed]",
      "text/plain": [
       "<Figure size 432x288 with 1 Axes>"
      ]
     },
     "metadata": {
      "needs_background": "light"
     },
     "output_type": "display_data"
    },
    {
     "data": {
      "image/png": "[encoded data removed]",
      "text/plain": [
       "<Figure size 432x288 with 1 Axes>"
      ]
     },
     "metadata": {
      "needs_background": "light"
     },
     "output_type": "display_data"
    },
    {
     "data": {
      "image/png": "[encoded data removed]",
      "text/plain": [
       "<Figure size 432x288 with 1 Axes>"
      ]
     },
     "metadata": {
      "needs_background": "light"
     },
     "output_type": "display_data"
    }
   ],
   "source": [
    "plt.hist(ph_arr)\n",
    "plt.xlabel(\"Ideal_PH\")\n",
    "plt.ylabel(\"frequency\")\n",
    "plt.show()\n",
    "\n",
    "plt.hist(temp_arr)\n",
    "plt.xlabel(\"Water_temp\")\n",
    "plt.ylabel(\"frequency\")\n",
    "plt.show()\n",
    "\n",
    "plt.hist(deep_arr)\n",
    "plt.xlabel(\"Well_deep\")\n",
    "plt.ylabel(\"frequency\")\n",
    "plt.show()\n",
    "\n",
    "plt.hist(pump_arr)\n",
    "plt.xlabel(\"jet_pump\")\n",
    "plt.ylabel(\"frequency\")\n",
    "plt.show()\n",
    "\n",
    "plt.hist(rainy_arr)\n",
    "plt.xlabel(\"rainy_area\")\n",
    "plt.ylabel(\"frequency\")\n",
    "plt.show()"
   ]
  },
  {
   "cell_type": "code",
   "execution_count": null,
   "metadata": {},
   "outputs": [],
   "source": []
  },
  {
   "cell_type": "code",
   "execution_count": 16,
   "metadata": {},
   "outputs": [
    {
     "data": {
      "image/png": "[encoded data removed]",
      "text/plain": [
       "<Figure size 432x288 with 1 Axes>"
      ]
     },
     "metadata": {
      "needs_background": "light"
     },
     "output_type": "display_data"
    },
    {
     "data": {
      "image/png": "[encoded data removed]",
      "text/plain": [
       "<Figure size 432x288 with 1 Axes>"
      ]
     },
     "metadata": {
      "needs_background": "light"
     },
     "output_type": "display_data"
    },
    {
     "data": {
      "image/png": "[encoded data removed]",
      "text/plain": [
       "<Figure size 432x288 with 1 Axes>"
      ]
     },
     "metadata": {
      "needs_background": "light"
     },
     "output_type": "display_data"
    },
    {
     "data": {
      "image/png": "[encoded data removed]",
      "text/plain": [
       "<Figure size 432x288 with 1 Axes>"
      ]
     },
     "metadata": {
      "needs_background": "light"
     },
     "output_type": "display_data"
    },
    {
     "data": {
      "image/png": "[encoded data removed]",
      "text/plain": [
       "<Figure size 432x288 with 1 Axes>"
      ]
     },
     "metadata": {
      "needs_background": "light"
     },
     "output_type": "display_data"
    }
   ],
   "source": [
    "plt.boxplot(ph_arr)\n",
    "plt.xlabel(\"Ideal_PH\")\n",
    "plt.show()\n",
    "\n",
    "plt.boxplot(temp_arr)\n",
    "plt.xlabel(\"Water_temp\")\n",
    "plt.show()\n",
    "\n",
    "plt.boxplot(deep_arr)\n",
    "plt.xlabel(\"Well_deep\")\n",
    "plt.show()\n",
    "\n",
    "plt.boxplot(pump_arr)\n",
    "plt.xlabel(\"jet_pump\")\n",
    "plt.show()\n",
    "\n",
    "plt.boxplot(rainy_arr)\n",
    "plt.xlabel(\"rainy_area\")\n",
    "plt.show()\n"
   ]
  },
  {
   "cell_type": "code",
   "execution_count": 17,
   "metadata": {},
   "outputs": [],
   "source": [
    "#import math\n",
    "#from pyspark.mllib.linalg import Vectors\n",
    "#from pyspark.mllib.regression import LabeledPoint\n",
    "#from numpy import array\n",
    "\n",
    "import math\n",
    "from pyspark.ml.linalg import Vectors\n",
    "from pyspark.mllib.regression import LabeledPoint\n",
    "from numpy import array"
   ]
  },
  {
   "cell_type": "code",
   "execution_count": 18,
   "metadata": {},
   "outputs": [
    {
     "data": {
      "text/plain": [
       "[DenseVector([7.0, 33.0, 2.0, 1.0, 0.0, 0.0]),\n",
       " DenseVector([7.0, 55.0, 3.0, 0.0, 0.0, 1.0])]"
      ]
     },
     "execution_count": 18,
     "metadata": {},
     "output_type": "execute_result"
    }
   ],
   "source": [
    "#labelPoint that MLLIB can use.All data must be numeric\n",
    "def vector_data(fields):\n",
    "    ph = float(fields[0])\n",
    "    deep = int(fields[1])\n",
    "    temp = int(fields[2])\n",
    "    pump = int(fields[3])\n",
    "    rainy = int(fields[4])\n",
    "    valid = int(fields[5])\n",
    "    return Vectors.dense([ph,deep,temp,pump,rainy,valid])\n",
    "\n",
    "autoVectors = dataLines.map(vector_data)\n",
    "autoVectors.take(2)"
   ]
  },
  {
   "cell_type": "code",
   "execution_count": 20,
   "metadata": {},
   "outputs": [
    {
     "name": "stdout",
     "output_type": "stream",
     "text": [
      "+-----+--------------------+\n",
      "|label|            features|\n",
      "+-----+--------------------+\n",
      "|  0.0|[7.0,33.0,2.0,1.0...|\n",
      "|  1.0|[7.0,55.0,3.0,0.0...|\n",
      "+-----+--------------------+\n",
      "only showing top 2 rows\n",
      "\n"
     ]
    }
   ],
   "source": [
    "def transformToLabelPoint (instr):\n",
    "    lp = (float(instr[5]),Vectors.dense([instr[0],instr[1],instr[2],instr[3],instr[4]]))\n",
    "    return lp\n",
    "\n",
    "autoLp= autoVectors.map(transformToLabelPoint)\n",
    "autoDF = sqlContext.createDataFrame(autoLp,[\"label\",\"features\"])\n",
    "autoDF.select(\"label\",\"features\").show(2)\n"
   ]
  },
  {
   "cell_type": "code",
   "execution_count": 21,
   "metadata": {},
   "outputs": [
    {
     "data": {
      "text/plain": [
       "(499, 447, 52)"
      ]
     },
     "execution_count": 21,
     "metadata": {},
     "output_type": "execute_result"
    }
   ],
   "source": [
    "#Split into training and testing data\n",
    "(trainingData, testData) = autoDF.randomSplit([0.9, 0.1],42)\n",
    "dataLines.count(),trainingData.count(),testData.count()\n",
    "\n"
   ]
  },
  {
   "cell_type": "code",
   "execution_count": 22,
   "metadata": {},
   "outputs": [],
   "source": [
    "#Build the model on training datal\n",
    "#from pyspark.ml.regression import LinearRegression\n",
    "from pyspark.ml.classification import LogisticRegression\n"
   ]
  },
  {
   "cell_type": "code",
   "execution_count": 23,
   "metadata": {},
   "outputs": [],
   "source": [
    "#lr = LinearRegression(maxIter=10)\n",
    "#lrModel = lr.fit(trainingData)\n",
    "lr = LogisticRegression(featuresCol = 'features', labelCol = 'label', maxIter=10)\n",
    "lrModel = lr.fit(trainingData)"
   ]
  },
  {
   "cell_type": "code",
   "execution_count": null,
   "metadata": {},
   "outputs": [],
   "source": [
    "from pyspark.ml.evaluation import MulticlassClassificationEvaluator\n",
    "\n",
    "print(\"Coefficients:\"+str(lrModel.coefficients))\n",
    "\n",
    "print(\"Intercept:\"+str(lrModel.intercept))\n",
    "\n",
    "#Predict on test data\n",
    "predictions = lrModel.transform(testData)\n",
    "predictions.select(\"prediction\",\"label\",\"features\").show()\n",
    "#predictions.select(\"*\").show()\n",
    "\n",
    "from pyspark.ml.evaluation import RegressionEvaluator\n",
    "evaluator =  RegressionEvaluator(predictionCol=\"prediction\",labelCol=\"label\",metricName=\"r2\")\n",
    "\n",
    "evaluator.evaluate(predictions)\n"
   ]
  },
  {
   "cell_type": "code",
   "execution_count": 25,
   "metadata": {},
   "outputs": [
    {
     "data": {
      "text/plain": [
       "['label', 'features', 'rawPrediction', 'probability', 'prediction']"
      ]
     },
     "execution_count": 25,
     "metadata": {},
     "output_type": "execute_result"
    }
   ],
   "source": [
    "predictions.columns"
   ]
  },
  {
   "cell_type": "code",
   "execution_count": 26,
   "metadata": {},
   "outputs": [
    {
     "data": {
      "text/plain": [
       "[Row(label=0.0, features=DenseVector([6.0, 35.0, 3.0, 0.0, 1.0]), rawPrediction=DenseVector([-0.5981, 0.5981]), probability=DenseVector([0.3548, 0.6452]), prediction=1.0),\n",
       " Row(label=0.0, features=DenseVector([6.0, 42.0, 3.0, 1.0, 1.0]), rawPrediction=DenseVector([-0.2052, 0.2052]), probability=DenseVector([0.4489, 0.5511]), prediction=1.0),\n",
       " Row(label=0.0, features=DenseVector([6.0, 58.0, 2.0, 0.0, 0.0]), rawPrediction=DenseVector([0.347, -0.347]), probability=DenseVector([0.5859, 0.4141]), prediction=0.0),\n",
       " Row(label=0.0, features=DenseVector([7.0, 38.0, 3.0, 0.0, 1.0]), rawPrediction=DenseVector([-0.483, 0.483]), probability=DenseVector([0.3816, 0.6184]), prediction=1.0),\n",
       " Row(label=0.0, features=DenseVector([7.0, 40.0, 2.0, 0.0, 0.0]), rawPrediction=DenseVector([0.2798, -0.2798]), probability=DenseVector([0.5695, 0.4305]), prediction=0.0)]"
      ]
     },
     "execution_count": 26,
     "metadata": {},
     "output_type": "execute_result"
    }
   ],
   "source": [
    "predictions.take(5)"
   ]
  },
  {
   "cell_type": "code",
   "execution_count": 37,
   "metadata": {},
   "outputs": [],
   "source": [
    "#predictions.select(\"prediction\",\"label\",\"features\").collect()"
   ]
  },
  {
   "cell_type": "code",
   "execution_count": 29,
   "metadata": {},
   "outputs": [
    {
     "data": {
      "text/plain": [
       "0.49393939393939396"
      ]
     },
     "execution_count": 29,
     "metadata": {},
     "output_type": "execute_result"
    }
   ],
   "source": [
    "from pyspark.ml.evaluation import MulticlassClassificationEvaluator\n",
    "\n",
    "#Predict on Test data\n",
    "#Adding prediction column\n",
    "predictions= lrModel.transform(testData)\n",
    "#predictions.select(\"*\").show()\n",
    "predictions.select(\"prediction\",\"label\",\"features\").collect()\n",
    "\n",
    "evaluator = MulticlassClassificationEvaluator(predictionCol=\"prediction\",\n",
    "                                              labelCol=\"label\",\n",
    "                                              metricName=\"f1\")\n",
    "evaluator.evaluate(predictions)\n",
    "\n",
    "#Draw a confusion Matrix\n",
    "#labelList = predictions.select(\"indexed\",\"label\").distinct()\n",
    "#predictions.select(\"*\").distinct().show()\n",
    "#predictions.groupBy(\"indexed\",\"prediction\").count().show()\n",
    "\n"
   ]
  },
  {
   "cell_type": "markdown",
   "metadata": {},
   "source": [
    "## decision tree "
   ]
  },
  {
   "cell_type": "code",
   "execution_count": 39,
   "metadata": {},
   "outputs": [],
   "source": [
    "\n",
    "#Create the Model\n",
    "dtClassifier= DecisionTreeClassifier(featuresCol='features' ,maxDepth=5,labelCol=\"label\")\n",
    "dtModel = dtClassifier.fit(trainingData)"
   ]
  },
  {
   "cell_type": "code",
   "execution_count": 38,
   "metadata": {},
   "outputs": [],
   "source": [
    "from pyspark.ml.classification import DecisionTreeClassifier"
   ]
  },
  {
   "cell_type": "code",
   "execution_count": 43,
   "metadata": {},
   "outputs": [
    {
     "data": {
      "text/plain": [
       "0.4314807999018525"
      ]
     },
     "execution_count": 43,
     "metadata": {},
     "output_type": "execute_result"
    }
   ],
   "source": [
    "from pyspark.ml.evaluation import MulticlassClassificationEvaluator\n",
    "\n",
    "#Predict on Test data\n",
    "#Adding prediction column\n",
    "predictions= dtModel.transform(testData)\n",
    "#predictions.select(\"*\").show()\n",
    "predictions.select(\"prediction\",\"label\",\"features\").collect()\n",
    "\n",
    "evaluator = MulticlassClassificationEvaluator(predictionCol=\"prediction\",\n",
    "                                              labelCol=\"label\",\n",
    "                                              metricName=\"f1\")\n",
    "evaluator.evaluate(predictions)\n",
    "\n",
    "#Draw a confusion Matrix\n",
    "#labelList = predictions.select(\"prediction\",\"label\").distinct()\n",
    "#predictions.select(\"*\").distinct().show()\n",
    "#predictions.groupBy(\"indexed\",\"prediction\").count().show()"
   ]
  },
  {
   "cell_type": "code",
   "execution_count": null,
   "metadata": {},
   "outputs": [],
   "source": []
  }
 ],
 "metadata": {
  "kernelspec": {
   "display_name": "Python 3",
   "language": "python",
   "name": "python3"
  },
  "language_info": {
   "codemirror_mode": {
    "name": "ipython",
    "version": 3
   },
   "file_extension": ".py",
   "mimetype": "text/x-python",
   "name": "python",
   "nbconvert_exporter": "python",
   "pygments_lexer": "ipython3",
   "version": "3.7.1"
  }
 },
 "nbformat": 4,
 "nbformat_minor": 2
}
